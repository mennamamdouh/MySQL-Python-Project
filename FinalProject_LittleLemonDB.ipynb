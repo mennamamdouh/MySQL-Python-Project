{
 "cells": [
  {
   "cell_type": "markdown",
   "source": [
    "# **Little Lemon Setup Database**"
   ],
   "metadata": {}
  },
  {
   "cell_type": "markdown",
   "source": [
    "## Import the MySQL / Python Connector"
   ],
   "metadata": {}
  },
  {
   "cell_type": "code",
   "execution_count": 9,
   "source": [
    "!pip install mysql-connector-python\n",
    "\n",
    "# Import MySQL Connector/Python \n",
    "import mysql.connector as connector\n",
    "\n",
    "connection=connector.connect(user=\"root\",password=\"\")\n",
    "\n",
    "print(\"Setup the connection is done\")"
   ],
   "outputs": [
    {
     "output_type": "stream",
     "name": "stdout",
     "text": [
      "Requirement already satisfied: mysql-connector-python in /home/coder/.local/lib/python3.8/site-packages (8.0.31)\n",
      "Requirement already satisfied: protobuf<=3.20.1,>=3.11.0 in /home/coder/.local/lib/python3.8/site-packages (from mysql-connector-python) (3.20.1)\n",
      "Setup the connection is done\n"
     ]
    }
   ],
   "metadata": {}
  },
  {
   "cell_type": "markdown",
   "source": [
    "## Create a cursor"
   ],
   "metadata": {}
  },
  {
   "cell_type": "code",
   "execution_count": 13,
   "source": [
    "cursor = connection.cursor()\n",
    "print(\"Cursor is created successfully\")"
   ],
   "outputs": [
    {
     "output_type": "stream",
     "name": "stdout",
     "text": [
      "Cursor is created successfully\n"
     ]
    }
   ],
   "metadata": {}
  },
  {
   "cell_type": "markdown",
   "source": [
    "## Create the database and set it for use"
   ],
   "metadata": {}
  },
  {
   "cell_type": "code",
   "execution_count": 14,
   "source": [
    "# Create the database\n",
    "try:\n",
    "    cursor.execute(\"CREATE DATABASE little_lemon_db;\")\n",
    "except:\n",
    "    cursor.execute(\"\"\"DROP DATABASE little_lemon_db;\"\"\")\n",
    "    cursor.execute(\"CREATE DATABASE little_lemon_db;\")\n",
    "print(\"Database is created\")\n",
    "\n",
    "# Use the database\n",
    "cursor.execute(\"USE little_lemon_db\")\n",
    "print(\"Database is set for use\")\n"
   ],
   "outputs": [
    {
     "output_type": "stream",
     "name": "stdout",
     "text": [
      "Database is created\n",
      "Database is set for use\n"
     ]
    }
   ],
   "metadata": {}
  },
  {
   "cell_type": "markdown",
   "source": [
    "## Creating tables"
   ],
   "metadata": {}
  },
  {
   "cell_type": "markdown",
   "source": [
    "### 1. MenuItems table"
   ],
   "metadata": {}
  },
  {
   "cell_type": "code",
   "execution_count": 15,
   "source": [
    "# MenuItems table\n",
    "create_menuitem_table = \"\"\"CREATE TABLE MenuItems (\n",
    "ItemID INT AUTO_INCREMENT,\n",
    "Name VARCHAR(200),\n",
    "Type VARCHAR(100),\n",
    "Price INT,\n",
    "PRIMARY KEY (ItemID)\n",
    ");\"\"\"\n",
    "\n",
    "# Execute MenuItems table\n",
    "cursor.execute(create_menuitem_table)\n",
    "print(\"Table is created successfully\")\n",
    "\n",
    "#*******************************************************#\n",
    "# Insert query to populate \"MenuItems\" table:\n",
    "#*******************************************************#\n",
    "insert_menuitems=\"\"\"\n",
    "INSERT INTO MenuItems (ItemID, Name, Type, Price)\n",
    "VALUES\n",
    "(1, 'Olives','Starters',5),\n",
    "(2, 'Flatbread','Starters', 5),\n",
    "(3, 'Minestrone', 'Starters', 8),\n",
    "(4, 'Tomato bread','Starters', 8),\n",
    "(5, 'Falafel', 'Starters', 7),\n",
    "(6, 'Hummus', 'Starters', 5),\n",
    "(7, 'Greek salad', 'Main Courses', 15),\n",
    "(8, 'Bean soup', 'Main Courses', 12),\n",
    "(9, 'Pizza', 'Main Courses', 15),\n",
    "(10, 'Greek yoghurt','Desserts', 7),\n",
    "(11, 'Ice cream', 'Desserts', 6),\n",
    "(12, 'Cheesecake', 'Desserts', 4),\n",
    "(13, 'Athens White wine', 'Drinks', 25),\n",
    "(14, 'Corfu Red Wine', 'Drinks', 30),\n",
    "(15, 'Turkish Coffee', 'Drinks', 10),\n",
    "(16, 'Turkish Coffee', 'Drinks', 10),\n",
    "(17, 'Kabasa', 'Main Courses', 17);\"\"\"\n",
    "\n",
    "# Populate MenuItems table\n",
    "cursor.execute(insert_menuitems)\n",
    "connection.commit()\n",
    "print(\"Data is inserted successfully\")"
   ],
   "outputs": [
    {
     "output_type": "stream",
     "name": "stdout",
     "text": [
      "Table is created successfully\n",
      "Data is inserted successfully\n"
     ]
    }
   ],
   "metadata": {}
  },
  {
   "cell_type": "markdown",
   "source": [
    "### 2. Menus table"
   ],
   "metadata": {}
  },
  {
   "cell_type": "code",
   "execution_count": 16,
   "source": [
    "# Menus table\n",
    "create_menus_table = \"\"\"CREATE TABLE Menus (\n",
    "MenuID INT,\n",
    "ItemID INT,\n",
    "Cuisine VARCHAR(100),\n",
    "PRIMARY KEY (MenuID,ItemID)\n",
    ");\"\"\"\n",
    "\n",
    "# Execute Menu table\n",
    "cursor.execute(create_menus_table)\n",
    "print(\"Table is created successfully\")\n",
    "\n",
    "#*******************************************************#\n",
    "# Insert query to populate \"Menu\" table:\n",
    "#*******************************************************#\n",
    "insert_menus=\"\"\"\n",
    "INSERT INTO Menus (MenuID,ItemID,Cuisine)\n",
    "VALUES\n",
    "(1, 1, 'Greek'),\n",
    "(1, 7, 'Greek'),\n",
    "(1, 10, 'Greek'),\n",
    "(1, 13, 'Greek'),\n",
    "(2, 3, 'Italian'),\n",
    "(2, 9, 'Italian'),\n",
    "(2, 12, 'Italian'),\n",
    "(2, 15, 'Italian'),\n",
    "(3, 5, 'Turkish'),\n",
    "(3, 17, 'Turkish'),\n",
    "(3, 11, 'Turkish'),\n",
    "(3, 16, 'Turkish');\"\"\"\n",
    "\n",
    "# Populate Menus table\n",
    "cursor.execute(insert_menus)\n",
    "connection.commit()\n",
    "print(\"Data is inserted successfully\")"
   ],
   "outputs": [
    {
     "output_type": "stream",
     "name": "stdout",
     "text": [
      "Table is created successfully\n",
      "Data is inserted successfully\n"
     ]
    }
   ],
   "metadata": {}
  },
  {
   "cell_type": "markdown",
   "source": [
    "### 3. Employees table"
   ],
   "metadata": {}
  },
  {
   "cell_type": "code",
   "execution_count": 17,
   "source": [
    "# Employees table\n",
    "create_employees_table = \"\"\"CREATE TABLE Employees(\n",
    "EmployeeID INT AUTO_INCREMENT PRIMARY KEY,\n",
    "Name VARCHAR(100),\n",
    "Role VARCHAR(100),\n",
    "Address VARCHAR(255),\n",
    "Contact_Number INT,\n",
    "Email VARCHAR(255),\n",
    "Annual_Salary VARCHAR(100)\n",
    ");\"\"\"\n",
    "\n",
    "# Execute Employees table\n",
    "cursor.execute(create_employees_table)\n",
    "print(\"Table is created successfully\")\n",
    "\n",
    "#*******************************************************#\n",
    "# Insert query to populate \"Employees\" table:\n",
    "#*******************************************************#\n",
    "insert_employees = \"\"\"\n",
    "INSERT INTO Employees (EmployeeID, Name, Role, Address, Contact_Number, Email, Annual_Salary)\n",
    "VALUES\n",
    "(01,'Mario Gollini','Manager','724, Parsley Lane, Old Town, Chicago, IL',351258074,'Mario.g@littlelemon.com','$70,000'),\n",
    "(02,'Adrian Gollini','Assistant Manager','334, Dill Square, Lincoln Park, Chicago, IL',351474048,'Adrian.g@littlelemon.com','$65,000'),\n",
    "(03,'Giorgos Dioudis','Head Chef','879 Sage Street, West Loop, Chicago, IL',351970582,'Giorgos.d@littlelemon.com','$50,000'),\n",
    "(04,'Fatma Kaya','Assistant Chef','132  Bay Lane, Chicago, IL',351963569,'Fatma.k@littlelemon.com','$45,000'),\n",
    "(05,'Elena Salvai','Head Waiter','989 Thyme Square, EdgeWater, Chicago, IL',351074198,'Elena.s@littlelemon.com','$40,000'),\n",
    "(06,'John Millar','Receptionist','245 Dill Square, Lincoln Park, Chicago, IL',351584508,'John.m@littlelemon.com','$35,000');\"\"\"\n",
    "\n",
    "# Populate Employees table\n",
    "cursor.execute(insert_employees)\n",
    "connection.commit()\n",
    "print(\"Data is inserted successfully\")"
   ],
   "outputs": [
    {
     "output_type": "stream",
     "name": "stdout",
     "text": [
      "Table is created successfully\n",
      "Data is inserted successfully\n"
     ]
    }
   ],
   "metadata": {}
  },
  {
   "cell_type": "markdown",
   "source": [
    "### 4. Orders table"
   ],
   "metadata": {}
  },
  {
   "cell_type": "code",
   "execution_count": 18,
   "source": [
    "# Orders table\n",
    "create_orders_table = \"\"\"CREATE TABLE Orders (\n",
    "OrderID INT,\n",
    "TableNo INT,\n",
    "MenuID INT,\n",
    "BookingID INT,\n",
    "BillAmount INT,\n",
    "Quantity INT,\n",
    "PRIMARY KEY (OrderID,TableNo)\n",
    ");\"\"\"\n",
    "\n",
    "# Execute Orders table\n",
    "cursor.execute(create_orders_table)\n",
    "print(\"Table is created successfully\")\n",
    "\n",
    "#*******************************************************#\n",
    "# Insert query to populate \"Orders\" table:\n",
    "#*******************************************************#\n",
    "insert_orders=\"\"\"\n",
    "INSERT INTO Orders (OrderID, TableNo, MenuID, BookingID, Quantity, BillAmount)\n",
    "VALUES\n",
    "(1, 12, 1, 1, 2, 86),\n",
    "(2, 19, 2, 2, 1, 37),\n",
    "(3, 15, 2, 3, 1, 37),\n",
    "(4, 5, 3, 4, 1, 40),\n",
    "(5, 8, 1, 5, 1, 43);\"\"\"\n",
    "\n",
    "# Populate Orders table\n",
    "cursor.execute(insert_orders)\n",
    "connection.commit()\n",
    "print(\"Data is inserted successfully\")"
   ],
   "outputs": [
    {
     "output_type": "stream",
     "name": "stdout",
     "text": [
      "Table is created successfully\n",
      "Data is inserted successfully\n"
     ]
    }
   ],
   "metadata": {}
  },
  {
   "cell_type": "markdown",
   "source": [
    "### 5. Bookings table"
   ],
   "metadata": {}
  },
  {
   "cell_type": "code",
   "execution_count": 19,
   "source": [
    "# Bookings table\n",
    "create_booking_table = \"\"\"CREATE TABLE Bookings (\n",
    "BookingID INT AUTO_INCREMENT,\n",
    "TableNo INT,\n",
    "GuestFirstName VARCHAR(100) NOT NULL,\n",
    "GuestLastName VARCHAR(100) NOT NULL,\n",
    "BookingSlot TIME NOT NULL,\n",
    "EmployeeID INT,\n",
    "PRIMARY KEY (BookingID)\n",
    ");\"\"\"\n",
    "\n",
    "# Execute Bookings table\n",
    "cursor.execute(create_booking_table)\n",
    "print(\"Table is created successfully\")\n",
    "\n",
    "#*******************************************************#\n",
    "# Insert query to populate \"Bookings\" table:\n",
    "#*******************************************************#\n",
    "insert_bookings=\"\"\"\n",
    "INSERT INTO Bookings (BookingID, TableNo, GuestFirstName, \n",
    "GuestLastName, BookingSlot, EmployeeID)\n",
    "VALUES\n",
    "(1, 12, 'Anna','Iversen','19:00:00',1),\n",
    "(2, 12, 'Joakim', 'Iversen', '19:00:00', 1),\n",
    "(3, 19, 'Vanessa', 'McCarthy', '15:00:00', 3),\n",
    "(4, 15, 'Marcos', 'Romero', '17:30:00', 4),\n",
    "(5, 5, 'Hiroki', 'Yamane', '18:30:00', 2),\n",
    "(6, 8, 'Diana', 'Pinto', '20:00:00', 5);\"\"\"\n",
    "\n",
    "# Populate Bookings table\n",
    "cursor.execute(insert_bookings)\n",
    "connection.commit()\n",
    "print(\"Data is inserted successfully\")"
   ],
   "outputs": [
    {
     "output_type": "stream",
     "name": "stdout",
     "text": [
      "Table is created successfully\n",
      "Data is inserted successfully\n"
     ]
    }
   ],
   "metadata": {}
  },
  {
   "cell_type": "markdown",
   "source": [
    "## Establish the connection and making pools"
   ],
   "metadata": {}
  },
  {
   "cell_type": "code",
   "execution_count": 24,
   "source": [
    "from mysql.connector.pooling import MySQLConnectionPool\n",
    "from mysql.connector import Error\n",
    "\n",
    "try:\n",
    "    pool = MySQLConnectionPool(\n",
    "        pool_name=\"pool_a\",\n",
    "        pool_size=2,\n",
    "        database=\"little_lemon_db\",\n",
    "        user=\"root\", password=\"\"\n",
    "    )\n",
    "    print(\"The connection pool is created\")\n",
    "except Error as err:\n",
    "    print(\"Error code: \", err.errno)\n",
    "    print(\"Error message: \", err.msg)"
   ],
   "outputs": [
    {
     "output_type": "stream",
     "name": "stdout",
     "text": [
      "The connection pool is created\n"
     ]
    }
   ],
   "metadata": {}
  },
  {
   "cell_type": "code",
   "execution_count": 25,
   "source": [
    "# Get a connection\n",
    "connection1 = pool.get_connection()\n",
    "print(\"A connection is created from the pool\")\n",
    "\n",
    "cursor = connection1.cursor()\n",
    "print(\"A cursor is created\")"
   ],
   "outputs": [
    {
     "output_type": "stream",
     "name": "stdout",
     "text": [
      "A connection is created from the pool\n",
      "A cursor is created\n"
     ]
    }
   ],
   "metadata": {}
  },
  {
   "cell_type": "markdown",
   "source": [
    "## Tasks"
   ],
   "metadata": {}
  },
  {
   "cell_type": "code",
   "execution_count": 32,
   "source": [
    "peakHours_procedure = \"\"\"\n",
    "    CREATE PROCEDURE PeakHours()\n",
    "    BEGIN\n",
    "        SELECT HOUR(BookingSlot) AS Hour, COUNT(BookingID) AS NumberOfBookings FROM Bookings\n",
    "        GROUP BY HOUR(BookingSlot) ORDER BY COUNT(BookingID) DESC;\n",
    "    END\n",
    "\"\"\"\n",
    "\n",
    "try:\n",
    "    cursor.execute(peakHours_procedure)\n",
    "    print(\"PeakHours procedure is created\")\n",
    "except:\n",
    "    cursor.execute(\"DROP PROCEDURE PeakHours\")\n",
    "    cursor.execute(peakHours_procedure)"
   ],
   "outputs": [],
   "metadata": {}
  },
  {
   "cell_type": "code",
   "execution_count": 35,
   "source": [
    "print(\"Calling the procedure\")\n",
    "cursor.callproc(\"PeakHours\")\n",
    "\n",
    "print(\"Fetching results\")\n",
    "results = next(cursor.stored_results())\n",
    "dataset = results.fetchall()"
   ],
   "outputs": [
    {
     "output_type": "stream",
     "name": "stdout",
     "text": [
      "Calling the procedure\n",
      "Fetching results\n"
     ]
    }
   ],
   "metadata": {}
  },
  {
   "cell_type": "code",
   "execution_count": 37,
   "source": [
    "print(\"The results are:\")\n",
    "\n",
    "for column_id in cursor.stored_results():\n",
    "    columns = [column[0] for column in column_id.description]\n",
    "\n",
    "print(columns)\n",
    "for data in dataset:\n",
    "    print(data)"
   ],
   "outputs": [
    {
     "output_type": "stream",
     "name": "stdout",
     "text": [
      "The results are:\n",
      "['Hour', 'NumberOfBookings']\n",
      "(19, 2)\n",
      "(15, 1)\n",
      "(17, 1)\n",
      "(18, 1)\n",
      "(20, 1)\n"
     ]
    }
   ],
   "metadata": {}
  },
  {
   "cell_type": "code",
   "execution_count": 38,
   "source": [
    "guestStatus_procedure = \"\"\"\n",
    "    CREATE PROCEDURE GuestStatus()\n",
    "    BEGIN\n",
    "        SELECT CONCAT(B.GuestFirstName, ' ', B.GuestLastName) AS FullName,\n",
    "            CASE\n",
    "                WHEN E.Role = 'Manager' OR E.Role = 'Assistant Manager' THEN 'Ready to pay'\n",
    "                WHEN E.Role = 'Head Chef' THEN 'Ready to serve'\n",
    "                WHEN E.Role = 'Assistant Chef' THEN 'Preparing Order'\n",
    "                WHEN E.Role = 'Head Waiter' THEN 'Order served'\n",
    "            END AS Status\n",
    "        FROM Bookings AS B LEFT JOIN Employees AS E\n",
    "            ON B.EmployeeID = E.EmployeeID;\n",
    "    END\n",
    "\"\"\"\n",
    "\n",
    "try:\n",
    "    cursor.execute(guestStatus_procedure)\n",
    "    print(\"GuestStatus procedure is created\")\n",
    "except:\n",
    "    cursor.execute(\"DROP PROCEDURE GuestStatus\")\n",
    "    cursor.execute(guestStatus_procedure)"
   ],
   "outputs": [
    {
     "output_type": "stream",
     "name": "stdout",
     "text": [
      "GuestStatus procedure is created\n"
     ]
    }
   ],
   "metadata": {}
  },
  {
   "cell_type": "code",
   "execution_count": 39,
   "source": [
    "print(\"Calling the procedure\")\n",
    "cursor.callproc(\"GuestStatus\")\n",
    "\n",
    "print(\"Fetching results\")\n",
    "results = next(cursor.stored_results())\n",
    "dataset = results.fetchall()"
   ],
   "outputs": [
    {
     "output_type": "stream",
     "name": "stdout",
     "text": [
      "Calling the procedure\n",
      "Fetching results\n"
     ]
    }
   ],
   "metadata": {}
  },
  {
   "cell_type": "code",
   "execution_count": 40,
   "source": [
    "print(\"The results are:\")\n",
    "\n",
    "for column_id in cursor.stored_results():\n",
    "    columns = [column[0] for column in column_id.description]\n",
    "\n",
    "print(columns)\n",
    "for data in dataset:\n",
    "    print(data)"
   ],
   "outputs": [
    {
     "output_type": "stream",
     "name": "stdout",
     "text": [
      "The results are:\n",
      "['FullName', 'Status']\n",
      "('Anna Iversen', 'Ready to pay')\n",
      "('Joakim Iversen', 'Ready to pay')\n",
      "('Vanessa McCarthy', 'Ready to serve')\n",
      "('Marcos Romero', 'Preparing Order')\n",
      "('Hiroki Yamane', 'Ready to pay')\n",
      "('Diana Pinto', 'Order served')\n"
     ]
    }
   ],
   "metadata": {}
  },
  {
   "cell_type": "markdown",
   "source": [
    "# **Little Lemon analysis and sales report**"
   ],
   "metadata": {}
  },
  {
   "cell_type": "markdown",
   "source": [
    "## Import the MySQL / Python Connector"
   ],
   "metadata": {}
  },
  {
   "cell_type": "code",
   "execution_count": 53,
   "source": [
    "from mysql.connector.pooling import MySQLConnectionPool\n",
    "from mysql.connector import Error\n",
    "\n",
    "try:\n",
    "    pool_b = MySQLConnectionPool(\n",
    "        pool_name=\"pool_b\",\n",
    "        pool_size=2,\n",
    "        database=\"little_lemon_db\",\n",
    "        user=\"root\", password=\"\"\n",
    "    )\n",
    "    print(\"The connection pool is created\")\n",
    "\n",
    "except Error as err:\n",
    "    print(\"Error code: \", err.errno)\n",
    "    print(\"Error message: \", err.msg)"
   ],
   "outputs": [
    {
     "output_type": "stream",
     "name": "stdout",
     "text": [
      "The connection pool is created\n"
     ]
    }
   ],
   "metadata": {}
  },
  {
   "cell_type": "markdown",
   "source": [
    "## Create connections"
   ],
   "metadata": {}
  },
  {
   "cell_type": "code",
   "execution_count": null,
   "source": [
    "# Connection for guest 1\n",
    "connection1 = pool_b.get_connection()\n",
    "cursor1 = connection1.cursor()\n",
    "\n",
    "booking1 = \"\"\"\n",
    "    INSERT INTO Bookings\n",
    "    (TableNo, GuestFirstName, GuestLastName, BookingSlot, EmployeeID)\n",
    "    VALUES\n",
    "    (8, \"Anees\", \"Java\", \"18:00:00\", 6);\n",
    "\"\"\"\n",
    "\n",
    "cursor1.execute(booking1)\n",
    "connection1.commit()\n",
    "print(\"A new booking is added in the Bookings table\")"
   ],
   "outputs": [],
   "metadata": {}
  },
  {
   "cell_type": "code",
   "execution_count": null,
   "source": [
    "# Connection for guest2\n",
    "connection2 = pool_b.get_connection()\n",
    "cursor2 = connection2.cursor()\n",
    "\n",
    "booking2 = \"\"\"\n",
    "    INSERT INTO Bookings\n",
    "    (TableNo, GuestFirstName, GuestLastName, BookingSlot, EmployeeID)\n",
    "    VALUES\n",
    "    (5, \"Bald\", \"Vin\", \"19:00\", 6);\n",
    "\"\"\"\n",
    "\n",
    "cursor2.execute(booking2)\n",
    "connection2.commit()\n",
    "print(\"A new booking is added in the Bookings table\")"
   ],
   "outputs": [],
   "metadata": {}
  },
  {
   "cell_type": "code",
   "execution_count": 62,
   "source": [
    "# Adding a new connection\n",
    "import mysql.connector as connector\n",
    "try:\n",
    "    connection3 = pool.get_connection()\n",
    "    print(\"The guest is connected\")\n",
    "except:\n",
    "    print(\"Adding a new connection in the pool\")\n",
    "\n",
    "    # Create a connection and add a new one to the pool\n",
    "    connection = connector.connect(user=\"root\", password=\"\")\n",
    "    pool.add_connection(cnx=connection)\n",
    "    print(\"A new connection is added in the pool\")\n",
    "\n",
    "    connection3 = pool.get_connection()\n",
    "    print(\"Connection3 is added in the pool\")\n",
    "\n",
    "booking3 = \"\"\"\n",
    "    INSERT INTO Bookings\n",
    "    (TableNo, GuestFirstName, GuestLastName, BookingSlot, EmployeeID)\n",
    "    VALUES\n",
    "    (12, \"Jay\", \"Kon\", \"19:30\", 6);\n",
    "\"\"\""
   ],
   "outputs": [
    {
     "output_type": "stream",
     "name": "stdout",
     "text": [
      "Adding a new connection in the pool\n",
      "A new connection is added in the pool\n",
      "Connection3 is added in the pool\n"
     ]
    }
   ],
   "metadata": {}
  },
  {
   "cell_type": "markdown",
   "source": [
    "## Performe some analysis"
   ],
   "metadata": {}
  },
  {
   "cell_type": "code",
   "execution_count": 86,
   "source": [
    "# Getting a connection\n",
    "try:\n",
    "    connection = pool.get_connection()\n",
    "    print(\"An object is connected successfully\")\n",
    "except:\n",
    "    connection = connector.connect(user=\"root\", password=\"\")\n",
    "    pool.add_connection(cnx=connection)\n",
    "\n",
    "    connection = pool.get_connection()\n",
    "\n",
    "cursor = connection.cursor()\n",
    "print(\"A cursor is created successfully\")"
   ],
   "outputs": [
    {
     "output_type": "stream",
     "name": "stdout",
     "text": [
      "A cursor is created successfully\n"
     ]
    }
   ],
   "metadata": {}
  },
  {
   "cell_type": "code",
   "execution_count": 71,
   "source": [
    "# Manager info\n",
    "managerInfo = \"\"\"\n",
    "    SELECT EmployeeID, Name FROM Employees WHERE Role = \"Manager\";\n",
    "\"\"\"\n",
    "cursor.execute(managerInfo)\n",
    "\n",
    "results = cursor.fetchall()\n",
    "columns = cursor.column_names\n",
    "print(columns)\n",
    "for result in results:\n",
    "    print(result)"
   ],
   "outputs": [
    {
     "output_type": "stream",
     "name": "stdout",
     "text": [
      "('EmployeeID', 'Name')\n",
      "(1, 'Mario Gollini')\n"
     ]
    }
   ],
   "metadata": {}
  },
  {
   "cell_type": "code",
   "execution_count": 77,
   "source": [
    "# Highest salary\n",
    "highestSalary = \"\"\"\n",
    "    SELECT Role, Name FROM Employees WHERE Annual_Salary = (SELECT MAX(Annual_Salary) FROM Employees);\n",
    "\"\"\"\n",
    "cursor.execute(highestSalary)\n",
    "\n",
    "results = cursor.fetchall()\n",
    "columns = cursor.column_names\n",
    "print(columns)\n",
    "for result in results:\n",
    "    print(result)"
   ],
   "outputs": [
    {
     "output_type": "stream",
     "name": "stdout",
     "text": [
      "('Role', 'Name')\n",
      "('Manager', 'Mario Gollini')\n"
     ]
    }
   ],
   "metadata": {}
  },
  {
   "cell_type": "code",
   "execution_count": 78,
   "source": [
    "# Guests at reception\n",
    "annualSalaries = \"\"\"\n",
    "    SELECT B.BookingID, CONCAT(B.GuestFirstName, ' ', B.GuestLastName) AS FullName FROM Bookings AS B\n",
    "    INNER JOIN Employees AS E\n",
    "        ON E.EmployeeID = B.EmployeeID\n",
    "    WHERE E.Role = 'Receptionist';\n",
    "\"\"\"\n",
    "cursor.execute(annualSalaries)\n",
    "\n",
    "results = cursor.fetchall()\n",
    "columns = cursor.column_names\n",
    "print(columns)\n",
    "for result in results:\n",
    "    print(result)"
   ],
   "outputs": [
    {
     "output_type": "stream",
     "name": "stdout",
     "text": [
      "('BookingID', 'FullName')\n",
      "(7, 'Anees Java')\n"
     ]
    }
   ],
   "metadata": {}
  },
  {
   "cell_type": "code",
   "execution_count": 88,
   "source": [
    "# BasicSalesReport procedure\n",
    "\n",
    "cursor.execute(\"\"\"DROP PROCEDURE IF EXISTS BasicSalesReport;\"\"\")\n",
    "\n",
    "basicSalesReport_procedure = \"\"\"\n",
    "    CREATE PROCEDURE BasicSalesReport()\n",
    "    BEGIN\n",
    "        SELECT SUM(BillAmount) AS TotalSales, AVG(BillAmount) AS AverageSales,\n",
    "            MIN(BillAmount) AS MinSales, MAX(BillAmount) AS MaxSales\n",
    "        FROM Orders;\n",
    "    END\n",
    "\"\"\"\n",
    "cursor.execute(basicSalesReport_procedure)\n",
    "\n",
    "cursor.callproc(\"BasicSalesReport\")\n",
    "results = next(cursor.stored_results())\n",
    "dataset = results.fetchall()\n",
    "\n",
    "for column_id in cursor.stored_results():\n",
    "    cols = [column[0] for column in column_id.description]\n",
    "\n",
    "print(cols)\n",
    "for data in dataset:\n",
    "    print(data)"
   ],
   "outputs": [
    {
     "output_type": "stream",
     "name": "stdout",
     "text": [
      "['TotalSales', 'AverageSales', 'MinSales', 'MaxSales']\n",
      "(Decimal('243'), Decimal('48.6000'), 37, 86)\n"
     ]
    }
   ],
   "metadata": {}
  },
  {
   "cell_type": "code",
   "execution_count": 93,
   "source": [
    "# First 3 bookings\n",
    "threeBookings = \"\"\"\n",
    "    SELECT HOUR(B.BookingSlot) AS Hour, CONCAT(B.GuestFirstName, ' ', B.GuestLastName) AS FullName, E.Role\n",
    "    FROM Bookings AS B INNER JOIN Employees AS E\n",
    "        ON E.EmployeeID = B.EmployeeID\n",
    "    ORDER BY HOUR(B.BookingSlot) LIMIT 3;\n",
    "\"\"\"\n",
    "\n",
    "cursor.execute(threeBookings)\n",
    "\n",
    "results = cursor.fetchall()\n",
    "columns = cursor.column_names\n",
    "print(columns)\n",
    "for result in results:\n",
    "    print(result)"
   ],
   "outputs": [
    {
     "output_type": "stream",
     "name": "stdout",
     "text": [
      "('Hour', 'FullName', 'Role')\n",
      "(15, 'Vanessa McCarthy', 'Head Chef')\n",
      "(17, 'Marcos Romero', 'Assistant Chef')\n",
      "(18, 'Hiroki Yamane', 'Assistant Manager')\n"
     ]
    }
   ],
   "metadata": {}
  }
 ],
 "metadata": {
  "orig_nbformat": 4,
  "language_info": {
   "name": "python",
   "version": "3.8.10",
   "mimetype": "text/x-python",
   "codemirror_mode": {
    "name": "ipython",
    "version": 3
   },
   "pygments_lexer": "ipython3",
   "nbconvert_exporter": "python",
   "file_extension": ".py"
  },
  "kernelspec": {
   "name": "python3",
   "display_name": "Python 3.8.10 64-bit"
  },
  "interpreter": {
   "hash": "31f2aee4e71d21fbe5cf8b01ff0e069b9275f58929596ceb00d14d90e3e16cd6"
  }
 },
 "nbformat": 4,
 "nbformat_minor": 2
}